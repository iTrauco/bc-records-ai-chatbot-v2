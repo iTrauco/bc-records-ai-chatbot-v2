{
 "cells": [
  {
   "cell_type": "code",
   "execution_count": 1,
   "id": "50923428-34e2-4467-bdd7-429f251a563c",
   "metadata": {},
   "outputs": [],
   "source": [
    "%%capture\n",
    "!pip3 install google-auth google-cloud-dialogflow-cx\n",
    "\n"
   ]
  },
  {
   "cell_type": "markdown",
   "id": "62452f9c-1cbc-4df0-b336-0e3da299a49b",
   "metadata": {},
   "source": [
    "## import modules"
   ]
  },
  {
   "cell_type": "code",
   "execution_count": 2,
   "id": "990bbbe3-0f1d-49f3-a942-bf784bd9ca3c",
   "metadata": {},
   "outputs": [],
   "source": [
    "# dfcx-scrapi\n",
    "from dfcx_scrapi.core.intents import Intents\n",
    "from dfcx_scrapi.tools.dataframe_functions import DataframeFunctions\n",
    "\n",
    "# For connectopm to g-sheets\n",
    "import gspread\n",
    "from oauth2client.service_account import ServiceAccountCredentials\n",
    "from df2gspread import df2gspread as d2g\n",
    "\n",
    "# data manipulation\n",
    "import pandas as pd\n",
    "import numpy as np\n",
    "\n",
    "# general python imports\n",
    "import os"
   ]
  },
  {
   "cell_type": "markdown",
   "id": "f5a77d0f-5036-4032-b48d-246f825f48d7",
   "metadata": {},
   "source": [
    "## g-sheets config"
   ]
  },
  {
   "cell_type": "code",
   "execution_count": 3,
   "id": "2a9e0bf3-ebdd-4a1d-9d33-a6fc51361eed",
   "metadata": {},
   "outputs": [],
   "source": [
    "%%capture\n",
    "# service account scopes\n",
    "# master systems analysis and design dxfc g-sheets workbook... Can be viewed and copied at https://itrau.co/dfcx-sad\n",
    "\n",
    "scope = ['https://www.googleapis.com/auth/spreadsheets','https://www.googleapis.com/auth/drive']\n",
    "\n",
    "\n",
    "#authorize sa\n",
    "credentials = ServiceAccountCredentials.from_json_keyfile_name('/Users/christophertrauco/.config/secrets/cx_admin_sa.json', scope)\n",
    "client = gspread.authorize(credentials)\n",
    "spreadsheet_key = '18qvh0uWkA0z7S5CC3xTdvD2wkhsmnINjgxUWmuoCo7M'\n",
    "sh = client.open_by_key(spreadsheet_key)\n",
    "# master systems analysis and design dxfc g-sheets workbook... Can be viewed and copied at https://itrau.co/dfcx-sad\n"
   ]
  },
  {
   "cell_type": "markdown",
   "id": "46e94e30-f002-4442-bade-126fda3abc7d",
   "metadata": {},
   "source": [
    "## g-sheets workbook build\n"
   ]
  },
  {
   "cell_type": "code",
   "execution_count": 4,
   "id": "544bb008-8b98-4fa8-8e40-b4a617b1aaa2",
   "metadata": {},
   "outputs": [],
   "source": [
    "ss = 'SAD DFXC - Master'"
   ]
  },
  {
   "cell_type": "code",
   "execution_count": 5,
   "id": "a3e04c27-23a6-40ed-a2ea-0e802ddb8cad",
   "metadata": {},
   "outputs": [],
   "source": [
    "sh = client.create(ss)"
   ]
  },
  {
   "cell_type": "code",
   "execution_count": 6,
   "id": "061af019-2bd4-4a38-ac3f-2bbf331fefce",
   "metadata": {},
   "outputs": [
    {
     "name": "stdout",
     "output_type": "stream",
     "text": [
      "<Spreadsheet 'SAD DFXC - Master' id:1rYUPzZIVMKFkSfGIA8nTMn7rnhkiw8JQoF_OkLXjZnE>\n"
     ]
    }
   ],
   "source": [
    "print(sh)"
   ]
  },
  {
   "cell_type": "code",
   "execution_count": 7,
   "id": "736e2498-02a9-4a04-8b76-db346ced5989",
   "metadata": {},
   "outputs": [
    {
     "data": {
      "text/plain": [
       "gspread.spreadsheet.Spreadsheet"
      ]
     },
     "execution_count": 7,
     "metadata": {},
     "output_type": "execute_result"
    }
   ],
   "source": [
    "type(sh)"
   ]
  },
  {
   "cell_type": "code",
   "execution_count": 9,
   "id": "fcb8e1ce-7654-4fcf-847f-ba057018aba7",
   "metadata": {},
   "outputs": [],
   "source": [
    "wb = sh.id"
   ]
  },
  {
   "cell_type": "code",
   "execution_count": 10,
   "id": "b1ab7702-0ada-45ed-8d7d-90fe71ca8298",
   "metadata": {},
   "outputs": [
    {
     "name": "stdout",
     "output_type": "stream",
     "text": [
      "1rYUPzZIVMKFkSfGIA8nTMn7rnhkiw8JQoF_OkLXjZnE\n"
     ]
    }
   ],
   "source": [
    "print(wb)"
   ]
  },
  {
   "cell_type": "code",
   "execution_count": null,
   "id": "ce309c7c-047e-4827-9fcf-2afff005e37c",
   "metadata": {},
   "outputs": [],
   "source": []
  }
 ],
 "metadata": {
  "kernelspec": {
   "display_name": "Python 3 (ipykernel)",
   "language": "python",
   "name": "python3"
  },
  "language_info": {
   "codemirror_mode": {
    "name": "ipython",
    "version": 3
   },
   "file_extension": ".py",
   "mimetype": "text/x-python",
   "name": "python",
   "nbconvert_exporter": "python",
   "pygments_lexer": "ipython3",
   "version": "3.11.6"
  }
 },
 "nbformat": 4,
 "nbformat_minor": 5
}
