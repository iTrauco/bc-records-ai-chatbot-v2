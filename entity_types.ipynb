{
 "cells": [
  {
   "cell_type": "code",
   "execution_count": 12,
   "id": "b7912e62",
   "metadata": {},
   "outputs": [],
   "source": [
    "%%capture\n",
    "!pip3 install google-auth google-cloud-dialogflow-cx"
   ]
  },
  {
   "cell_type": "code",
   "execution_count": 13,
   "id": "1ae52a9a",
   "metadata": {},
   "outputs": [],
   "source": [
    "# data manipulation modules\n",
    "import pandas as pd\n",
    "import numpy as np\n",
    "\n",
    "# general python modules\n",
    "import json\n",
    "import csv\n",
    "import io \n",
    "import os\n",
    "\n",
    "# dialogflow cx imports\n",
    "from dfcx_scrapi.core.agents import Agents\n",
    "from dfcx_scrapi.core.intents import Intents\n",
    "from dfcx_scrapi.core.flows import Flows\n",
    "from dfcx_scrapi.core.pages import Pages\n",
    "from dfcx_scrapi.tools.dataframe_functions import DataframeFunctions\n",
    "from dfcx_scrapi.tools.maker_util import MakerUtil\n",
    "\n",
    "# For connect to google sheet\n",
    "import gspread\n",
    "from oauth2client.service_account import ServiceAccountCredentials\n",
    "from df2gspread import df2gspread as d2g\n",
    "\n",
    "from google.cloud import dialogflowcx_v3beta1\n",
    "\n"
   ]
  },
  {
   "cell_type": "code",
   "execution_count": 21,
   "id": "5b3f0cda",
   "metadata": {},
   "outputs": [],
   "source": [
    "# service account scopes\n",
    "# master systems analysis and design dxfc g-sheets workbook... Can be viewed and copied at https://itrau.co/dfcx-sad\n",
    "\n",
    "scope = ['https://www.googleapis.com/auth/spreadsheets','https://www.googleapis.com/auth/drive']\n",
    "\n",
    "\n",
    "#authorize sa\n",
    "credentials = ServiceAccountCredentials.from_json_keyfile_name('/Users/christophertrauco/.config/secrets/cx_admin_sa.json', scope)\n",
    "client = gspread.authorize(credentials)\n",
    "spreadsheet_key = '1el3n3B0lXOs-fmxTjyGv0WyDLN2cGo0U-U5SvrhO_7Y'\n",
    "sh = client.open_by_key(spreadsheet_key)\n",
    "# master systems analysis and design dxfc g-sheets workbook... Can be viewed and copied at https://itrau.co/dfcx-sad\n"
   ]
  },
  {
   "cell_type": "code",
   "execution_count": 22,
   "id": "93881088",
   "metadata": {},
   "outputs": [],
   "source": [
    "from google.cloud import dialogflowcx_v3\n",
    "\n",
    "\n",
    "def list_entity_types():\n",
    "    # Create a client\n",
    "    client = dialogflowcx_v3.EntityTypesClient()\n",
    "\n",
    "    # Initialize request argument(s)\n",
    "    request = dialogflowcx_v3.ListEntityTypesRequest(\n",
    "        parent=\"projects/bot1-404120/locations/global/agents/4a2fde83-decc-4656-8995-1cbc2e3eeab4\",\n",
    "    )\n",
    "\n",
    "    # Make the request\n",
    "    page_result = client.list_entity_types(request=request)\n",
    "\n",
    "    # Handle the response\n",
    "    for response in page_result:\n",
    "        print(response)"
   ]
  },
  {
   "cell_type": "code",
   "execution_count": 23,
   "id": "91a48fab",
   "metadata": {},
   "outputs": [
    {
     "name": "stdout",
     "output_type": "stream",
     "text": [
      "name: \"projects/bot1-404120/locations/global/agents/4a2fde83-decc-4656-8995-1cbc2e3eeab4/entityTypes/1b4f8149-8edc-481a-a083-8fc9a99a94b8\"\n",
      "display_name: \"Artist\"\n",
      "kind: KIND_MAP\n",
      "entities {\n",
      "  value: \"The Google Dolls\"\n",
      "  synonyms: \"Google Dolls\"\n",
      "}\n",
      "entities {\n",
      "  value: \"The Goo Fighters\"\n",
      "  synonyms: \"Goo Fighters\"\n",
      "}\n",
      "entities {\n",
      "  value: \"G\\'s N\\' Roses\"\n",
      "  synonyms: \"Alice Googler\"\n",
      "}\n",
      "enable_fuzzy_extraction: true\n",
      "redact: true\n",
      "\n",
      "name: \"projects/bot1-404120/locations/global/agents/4a2fde83-decc-4656-8995-1cbc2e3eeab4/entityTypes/5cae880f-5ee7-4189-9460-f978853cc75e\"\n",
      "display_name: \"ShirtSize\"\n",
      "kind: KIND_MAP\n",
      "entities {\n",
      "  value: \"XS\"\n",
      "  synonyms: \"Extra Small\"\n",
      "}\n",
      "entities {\n",
      "  value: \"S\"\n",
      "  synonyms: \"Small\"\n",
      "}\n",
      "entities {\n",
      "  value: \"M\"\n",
      "  synonyms: \"Medium\"\n",
      "}\n",
      "entities {\n",
      "  value: \"L\"\n",
      "  synonyms: \"Large\"\n",
      "}\n",
      "entities {\n",
      "  value: \"XL\"\n",
      "  synonyms: \"Extra Large\"\n",
      "}\n",
      "entities {\n",
      "  value: \"2XL\"\n",
      "  synonyms: \"Extra Extra Large\"\n",
      "}\n",
      "enable_fuzzy_extraction: true\n",
      "redact: true\n",
      "\n",
      "name: \"projects/bot1-404120/locations/global/agents/4a2fde83-decc-4656-8995-1cbc2e3eeab4/entityTypes/6e384dbf-48e8-48a4-a6c8-e3292cfb4f65\"\n",
      "display_name: \"OrderNumber\"\n",
      "kind: KIND_REGEXP\n",
      "entities {\n",
      "  value: \"[A-Z]{4}[0-9]{3}\"\n",
      "  synonyms: \"[A-Z]{4}[0-9]{3}\"\n",
      "}\n",
      "\n",
      "name: \"projects/bot1-404120/locations/global/agents/4a2fde83-decc-4656-8995-1cbc2e3eeab4/entityTypes/8dae9846-8fba-4c43-b011-bc3a6e8fca83\"\n",
      "display_name: \"Artist_Aliases\"\n",
      "kind: KIND_MAP\n",
      "entities {\n",
      "  value: \"Artist\"\n",
      "  synonyms: \"musicians\"\n",
      "  synonyms: \"bands\"\n",
      "  synonyms: \"singers\"\n",
      "  synonyms: \"groups\"\n",
      "}\n",
      "\n",
      "name: \"projects/bot1-404120/locations/global/agents/4a2fde83-decc-4656-8995-1cbc2e3eeab4/entityTypes/9520a99c-163d-4422-b3d4-f3824952f60c\"\n",
      "display_name: \"Merch\"\n",
      "kind: KIND_MAP\n",
      "entities {\n",
      "  value: \"T-shirt\"\n",
      "  synonyms: \"T-shirt\"\n",
      "}\n",
      "entities {\n",
      "  value: \"Longsleeve\"\n",
      "  synonyms: \"Longsleeve Shirt\"\n",
      "}\n",
      "entities {\n",
      "  value: \"Tour Movie\"\n",
      "  synonyms: \"Tour Movie\"\n",
      "}\n",
      "entities {\n",
      "  value: \"Digital Album\"\n",
      "  synonyms: \"MP3 Album\"\n",
      "  synonyms: \"MP3\"\n",
      "}\n",
      "entities {\n",
      "  value: \"CD\"\n",
      "  synonyms: \"Disc\"\n",
      "  synonyms: \"Physical CD\"\n",
      "}\n",
      "\n",
      "name: \"projects/bot1-404120/locations/global/agents/4a2fde83-decc-4656-8995-1cbc2e3eeab4/entityTypes/977ca169-ab90-40d0-9ac5-c6b78feab7a2\"\n",
      "display_name: \"Album\"\n",
      "kind: KIND_MAP\n",
      "entities {\n",
      "  value: \"Live\"\n",
      "  synonyms: \"Live\"\n",
      "}\n",
      "entities {\n",
      "  value: \"Greatest Hits\"\n",
      "  synonyms: \"Hits\"\n",
      "}\n",
      "enable_fuzzy_extraction: true\n",
      "redact: true\n",
      "\n"
     ]
    }
   ],
   "source": [
    "test = list_entity_types()"
   ]
  },
  {
   "cell_type": "code",
   "execution_count": 24,
   "id": "f5bb6615",
   "metadata": {},
   "outputs": [],
   "source": [
    "%%capture\n",
    "%%sh\n",
    "./etl.sh\n"
   ]
  },
  {
   "cell_type": "code",
   "execution_count": 25,
   "id": "f608a551",
   "metadata": {},
   "outputs": [
    {
     "name": "stdout",
     "output_type": "stream",
     "text": [
      "The sheet is updated successfully\n"
     ]
    }
   ],
   "source": [
    "df = pd.read_csv('entities.csv')\n",
    "# print(df)\n",
    "\n",
    "wks_name = 'entityTypes'\n",
    "cell_of_start_df = 'A1'\n",
    "# upload the dataframe of the clients we want to delete\n",
    "d2g.upload(df,\n",
    "           spreadsheet_key,\n",
    "           wks_name,\n",
    "           credentials=credentials,\n",
    "           col_names=True,\n",
    "           row_names=False,\n",
    "           start_cell = cell_of_start_df,\n",
    "           clean=True)\n",
    "print ('The sheet is updated successfully')"
   ]
  },
  {
   "cell_type": "code",
   "execution_count": null,
   "id": "a2174d3d",
   "metadata": {},
   "outputs": [],
   "source": [
    "# create entity type https://github.com/googleapis/google-cloud-python/blob/main/packages/google-cloud-dialogflow-cx/samples/generated_samples/dialogflow_v3_generated_entity_types_create_entity_type_sync.py"
   ]
  },
  {
   "cell_type": "code",
   "execution_count": 28,
   "id": "9bbc2ed7",
   "metadata": {},
   "outputs": [],
   "source": [
    "from google.cloud import dialogflowcx_v3\n",
    "\n",
    "\n",
    "def create_entity_type():\n",
    "    # Create a client\n",
    "    client = dialogflowcx_v3.EntityTypesClient()\n",
    "\n",
    "    # Initialize request argument(s)\n",
    "    entity_type = dialogflowcx_v3.EntityType()\n",
    "    entity_type.display_name = \"test\"\n",
    "    entity_type.kind = \"KIND_MAP\"\n",
    "\n",
    "    request = dialogflowcx_v3.CreateEntityTypeRequest(\n",
    "        parent=\"projects/bot1-404120/locations/global/agents/4a2fde83-decc-4656-8995-1cbc2e3eeab4\",\n",
    "        entity_type=entity_type,\n",
    "    )\n",
    "\n",
    "    # Make the request\n",
    "    response = client.create_entity_type(request=request)\n",
    "\n",
    "    # Handle the response\n",
    "    print(response)"
   ]
  },
  {
   "cell_type": "code",
   "execution_count": 31,
   "id": "f43f1ea4",
   "metadata": {},
   "outputs": [],
   "source": [
    "%%capture\n",
    "%%sh\n",
    "./etl.sh\n"
   ]
  },
  {
   "cell_type": "code",
   "execution_count": 36,
   "id": "c206de16",
   "metadata": {},
   "outputs": [
    {
     "name": "stdout",
     "output_type": "stream",
     "text": [
      "The sheet is updated successfully\n"
     ]
    }
   ],
   "source": [
    "df = pd.read_csv('new_entity.csv')\n",
    "# print(df)\n",
    "\n",
    "wks_name = 'Creations'\n",
    "cell_of_start_df = 'A1'\n",
    "# upload the dataframe of the clients we want to delete\n",
    "d2g.upload(df,\n",
    "           spreadsheet_key,\n",
    "           wks_name,\n",
    "           credentials=credentials,\n",
    "           col_names=True,\n",
    "           row_names=False,\n",
    "           start_cell = cell_of_start_df,\n",
    "           clean=False)\n",
    "print ('The sheet is updated successfully')"
   ]
  },
  {
   "cell_type": "code",
   "execution_count": null,
   "id": "a916281c",
   "metadata": {},
   "outputs": [],
   "source": []
  }
 ],
 "metadata": {
  "kernelspec": {
   "display_name": "Python 3 (ipykernel)",
   "language": "python",
   "name": "python3"
  },
  "language_info": {
   "codemirror_mode": {
    "name": "ipython",
    "version": 3
   },
   "file_extension": ".py",
   "mimetype": "text/x-python",
   "name": "python",
   "nbconvert_exporter": "python",
   "pygments_lexer": "ipython3",
   "version": "3.11.5"
  }
 },
 "nbformat": 4,
 "nbformat_minor": 5
}
