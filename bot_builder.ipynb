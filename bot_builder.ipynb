{
 "cells": [
  {
   "cell_type": "code",
   "execution_count": 2,
   "id": "0017340a",
   "metadata": {},
   "outputs": [
    {
     "name": "stdout",
     "output_type": "stream",
     "text": [
      "Requirement already satisfied: dfcx-scrapi in ./venv/lib/python3.11/site-packages (1.9.0)\n",
      "Requirement already satisfied: tabulate in ./venv/lib/python3.11/site-packages (0.9.0)\n",
      "Requirement already satisfied: gspread_dataframe in ./venv/lib/python3.11/site-packages (3.3.1)\n",
      "Requirement already satisfied: google-cloud-dialogflow-cx in ./venv/lib/python3.11/site-packages (from dfcx-scrapi) (1.28.0)\n",
      "Requirement already satisfied: gspread>=3.0.0 in ./venv/lib/python3.11/site-packages (from gspread_dataframe) (5.10.0)\n",
      "Requirement already satisfied: pandas>=0.24.0 in ./venv/lib/python3.11/site-packages (from gspread_dataframe) (2.1.3)\n",
      "Requirement already satisfied: six>=1.12.0 in ./venv/lib/python3.11/site-packages (from gspread_dataframe) (1.16.0)\n",
      "Requirement already satisfied: google-auth>=1.12.0 in ./venv/lib/python3.11/site-packages (from gspread>=3.0.0->gspread_dataframe) (2.23.4)\n",
      "Requirement already satisfied: google-auth-oauthlib>=0.4.1 in ./venv/lib/python3.11/site-packages (from gspread>=3.0.0->gspread_dataframe) (1.1.0)\n",
      "Requirement already satisfied: numpy<2,>=1.23.2 in ./venv/lib/python3.11/site-packages (from pandas>=0.24.0->gspread_dataframe) (1.26.2)\n",
      "Requirement already satisfied: python-dateutil>=2.8.2 in ./venv/lib/python3.11/site-packages (from pandas>=0.24.0->gspread_dataframe) (2.8.2)\n",
      "Requirement already satisfied: pytz>=2020.1 in ./venv/lib/python3.11/site-packages (from pandas>=0.24.0->gspread_dataframe) (2023.3.post1)\n",
      "Requirement already satisfied: tzdata>=2022.1 in ./venv/lib/python3.11/site-packages (from pandas>=0.24.0->gspread_dataframe) (2023.3)\n",
      "Requirement already satisfied: google-api-core!=2.0.*,!=2.1.*,!=2.10.*,!=2.2.*,!=2.3.*,!=2.4.*,!=2.5.*,!=2.6.*,!=2.7.*,!=2.8.*,!=2.9.*,<3.0.0dev,>=1.34.0 in ./venv/lib/python3.11/site-packages (from google-api-core[grpc]!=2.0.*,!=2.1.*,!=2.10.*,!=2.2.*,!=2.3.*,!=2.4.*,!=2.5.*,!=2.6.*,!=2.7.*,!=2.8.*,!=2.9.*,<3.0.0dev,>=1.34.0->google-cloud-dialogflow-cx->dfcx-scrapi) (2.14.0)\n",
      "Requirement already satisfied: proto-plus<2.0.0dev,>=1.22.0 in ./venv/lib/python3.11/site-packages (from google-cloud-dialogflow-cx->dfcx-scrapi) (1.22.3)\n",
      "Requirement already satisfied: protobuf!=3.20.0,!=3.20.1,!=4.21.0,!=4.21.1,!=4.21.2,!=4.21.3,!=4.21.4,!=4.21.5,<5.0.0dev,>=3.19.5 in ./venv/lib/python3.11/site-packages (from google-cloud-dialogflow-cx->dfcx-scrapi) (4.25.1)\n",
      "Requirement already satisfied: googleapis-common-protos<2.0.dev0,>=1.56.2 in ./venv/lib/python3.11/site-packages (from google-api-core!=2.0.*,!=2.1.*,!=2.10.*,!=2.2.*,!=2.3.*,!=2.4.*,!=2.5.*,!=2.6.*,!=2.7.*,!=2.8.*,!=2.9.*,<3.0.0dev,>=1.34.0->google-api-core[grpc]!=2.0.*,!=2.1.*,!=2.10.*,!=2.2.*,!=2.3.*,!=2.4.*,!=2.5.*,!=2.6.*,!=2.7.*,!=2.8.*,!=2.9.*,<3.0.0dev,>=1.34.0->google-cloud-dialogflow-cx->dfcx-scrapi) (1.61.0)\n",
      "Requirement already satisfied: requests<3.0.0.dev0,>=2.18.0 in ./venv/lib/python3.11/site-packages (from google-api-core!=2.0.*,!=2.1.*,!=2.10.*,!=2.2.*,!=2.3.*,!=2.4.*,!=2.5.*,!=2.6.*,!=2.7.*,!=2.8.*,!=2.9.*,<3.0.0dev,>=1.34.0->google-api-core[grpc]!=2.0.*,!=2.1.*,!=2.10.*,!=2.2.*,!=2.3.*,!=2.4.*,!=2.5.*,!=2.6.*,!=2.7.*,!=2.8.*,!=2.9.*,<3.0.0dev,>=1.34.0->google-cloud-dialogflow-cx->dfcx-scrapi) (2.31.0)\n",
      "Requirement already satisfied: grpcio<2.0dev,>=1.33.2 in ./venv/lib/python3.11/site-packages (from google-api-core[grpc]!=2.0.*,!=2.1.*,!=2.10.*,!=2.2.*,!=2.3.*,!=2.4.*,!=2.5.*,!=2.6.*,!=2.7.*,!=2.8.*,!=2.9.*,<3.0.0dev,>=1.34.0->google-cloud-dialogflow-cx->dfcx-scrapi) (1.59.3)\n",
      "Requirement already satisfied: grpcio-status<2.0.dev0,>=1.33.2 in ./venv/lib/python3.11/site-packages (from google-api-core[grpc]!=2.0.*,!=2.1.*,!=2.10.*,!=2.2.*,!=2.3.*,!=2.4.*,!=2.5.*,!=2.6.*,!=2.7.*,!=2.8.*,!=2.9.*,<3.0.0dev,>=1.34.0->google-cloud-dialogflow-cx->dfcx-scrapi) (1.59.3)\n",
      "Requirement already satisfied: cachetools<6.0,>=2.0.0 in ./venv/lib/python3.11/site-packages (from google-auth>=1.12.0->gspread>=3.0.0->gspread_dataframe) (5.3.2)\n",
      "Requirement already satisfied: pyasn1-modules>=0.2.1 in ./venv/lib/python3.11/site-packages (from google-auth>=1.12.0->gspread>=3.0.0->gspread_dataframe) (0.3.0)\n",
      "Requirement already satisfied: rsa<5,>=3.1.4 in ./venv/lib/python3.11/site-packages (from google-auth>=1.12.0->gspread>=3.0.0->gspread_dataframe) (4.9)\n",
      "Requirement already satisfied: requests-oauthlib>=0.7.0 in ./venv/lib/python3.11/site-packages (from google-auth-oauthlib>=0.4.1->gspread>=3.0.0->gspread_dataframe) (1.3.1)\n",
      "Requirement already satisfied: pyasn1<0.6.0,>=0.4.6 in ./venv/lib/python3.11/site-packages (from pyasn1-modules>=0.2.1->google-auth>=1.12.0->gspread>=3.0.0->gspread_dataframe) (0.5.1)\n",
      "Requirement already satisfied: charset-normalizer<4,>=2 in ./venv/lib/python3.11/site-packages (from requests<3.0.0.dev0,>=2.18.0->google-api-core!=2.0.*,!=2.1.*,!=2.10.*,!=2.2.*,!=2.3.*,!=2.4.*,!=2.5.*,!=2.6.*,!=2.7.*,!=2.8.*,!=2.9.*,<3.0.0dev,>=1.34.0->google-api-core[grpc]!=2.0.*,!=2.1.*,!=2.10.*,!=2.2.*,!=2.3.*,!=2.4.*,!=2.5.*,!=2.6.*,!=2.7.*,!=2.8.*,!=2.9.*,<3.0.0dev,>=1.34.0->google-cloud-dialogflow-cx->dfcx-scrapi) (3.3.2)\n",
      "Requirement already satisfied: idna<4,>=2.5 in ./venv/lib/python3.11/site-packages (from requests<3.0.0.dev0,>=2.18.0->google-api-core!=2.0.*,!=2.1.*,!=2.10.*,!=2.2.*,!=2.3.*,!=2.4.*,!=2.5.*,!=2.6.*,!=2.7.*,!=2.8.*,!=2.9.*,<3.0.0dev,>=1.34.0->google-api-core[grpc]!=2.0.*,!=2.1.*,!=2.10.*,!=2.2.*,!=2.3.*,!=2.4.*,!=2.5.*,!=2.6.*,!=2.7.*,!=2.8.*,!=2.9.*,<3.0.0dev,>=1.34.0->google-cloud-dialogflow-cx->dfcx-scrapi) (3.6)\n",
      "Requirement already satisfied: urllib3<3,>=1.21.1 in ./venv/lib/python3.11/site-packages (from requests<3.0.0.dev0,>=2.18.0->google-api-core!=2.0.*,!=2.1.*,!=2.10.*,!=2.2.*,!=2.3.*,!=2.4.*,!=2.5.*,!=2.6.*,!=2.7.*,!=2.8.*,!=2.9.*,<3.0.0dev,>=1.34.0->google-api-core[grpc]!=2.0.*,!=2.1.*,!=2.10.*,!=2.2.*,!=2.3.*,!=2.4.*,!=2.5.*,!=2.6.*,!=2.7.*,!=2.8.*,!=2.9.*,<3.0.0dev,>=1.34.0->google-cloud-dialogflow-cx->dfcx-scrapi) (2.1.0)\n",
      "Requirement already satisfied: certifi>=2017.4.17 in ./venv/lib/python3.11/site-packages (from requests<3.0.0.dev0,>=2.18.0->google-api-core!=2.0.*,!=2.1.*,!=2.10.*,!=2.2.*,!=2.3.*,!=2.4.*,!=2.5.*,!=2.6.*,!=2.7.*,!=2.8.*,!=2.9.*,<3.0.0dev,>=1.34.0->google-api-core[grpc]!=2.0.*,!=2.1.*,!=2.10.*,!=2.2.*,!=2.3.*,!=2.4.*,!=2.5.*,!=2.6.*,!=2.7.*,!=2.8.*,!=2.9.*,<3.0.0dev,>=1.34.0->google-cloud-dialogflow-cx->dfcx-scrapi) (2023.11.17)\n",
      "Requirement already satisfied: oauthlib>=3.0.0 in ./venv/lib/python3.11/site-packages (from requests-oauthlib>=0.7.0->google-auth-oauthlib>=0.4.1->gspread>=3.0.0->gspread_dataframe) (3.2.2)\n"
     ]
    }
   ],
   "source": [
    "# install required dependencies for jn kernal and restart\n",
    "!pip install dfcx-scrapi tabulate gspread_dataframe"
   ]
  },
  {
   "cell_type": "code",
   "execution_count": 38,
   "id": "7fb680e3",
   "metadata": {},
   "outputs": [],
   "source": [
    "# data manipulation modules\n",
    "import pandas as pd\n",
    "import numpy as np\n",
    "\n",
    "# general python modules\n",
    "import json\n",
    "import csv\n",
    "import io \n",
    "import os\n",
    "\n",
    "# dialogflow cx imports\n",
    "from dfcx_scrapi.core.agents import Agents\n",
    "from dfcx_scrapi.core.intents import Intents\n",
    "from dfcx_scrapi.core.flows import Flows\n",
    "from dfcx_scrapi.core.pages import Pages\n",
    "from dfcx_scrapi.tools.dataframe_functions import DataframeFunctions\n",
    "from dfcx_scrapi.tools.maker_util import MakerUtil\n",
    "\n",
    "# For connect to google sheet\n",
    "import gspread\n",
    "from oauth2client.service_account import ServiceAccountCredentials\n",
    "from df2gspread import df2gspread as d2g\n"
   ]
  },
  {
   "cell_type": "code",
   "execution_count": 2,
   "id": "360cf42e",
   "metadata": {},
   "outputs": [
    {
     "name": "stdout",
     "output_type": "stream",
     "text": [
      "<Cell R1C2 'bot1-404120'>\n"
     ]
    }
   ],
   "source": [
    "# service account scopes\n",
    "# master systems analysis and design dxfc g-sheets workbook... Can be viewed and copied at https://itrau.co/dfcx-sad\n",
    "\n",
    "scope = ['https://www.googleapis.com/auth/spreadsheets','https://www.googleapis.com/auth/drive']\n",
    "\n",
    "\n",
    "#authorize sa\n",
    "credentials = ServiceAccountCredentials.from_json_keyfile_name('/Users/christophertrauco/.config/secrets/cx_admin_sa.json', scope)\n",
    "client = gspread.authorize(credentials)\n",
    "spreadsheet_key = '1N10vIxxT9nJShDDNbFvIAxcCOe8vLhoZ_8Ex3lsGc_c'\n",
    "sh = client.open_by_key(spreadsheet_key)\n",
    "project_id = sh.worksheet('Main').acell('B1')\n",
    "print(project_id)\n",
    "# master systems analysis and design dxfc g-sheets workbook... Can be viewed and copied at https://itrau.co/dfcx-sad\n"
   ]
  },
  {
   "cell_type": "code",
   "execution_count": null,
   "id": "a7d9b888",
   "metadata": {},
   "outputs": [],
   "source": []
  },
  {
   "cell_type": "code",
   "execution_count": 3,
   "id": "621c28c2",
   "metadata": {
    "scrolled": true
   },
   "outputs": [
    {
     "name": "stdout",
     "output_type": "stream",
     "text": [
      "The sheet is updated successfully\n"
     ]
    }
   ],
   "source": [
    "# local scripts for stdin and stdout via gcloud \n",
    "!gcloud projects list > input.csv\n",
    "\n",
    "!sed 's/[:blank:]+/,/g' input.csv > output.csv\n",
    "\n",
    "file = 'output'\n",
    "\n",
    "data = f'{file}.csv'\n",
    "df = pd.read_csv(data)\n",
    "\n",
    "# write gcp projects to sad dfcx workbook\n",
    "\n",
    "wks_name = 'Projects'\n",
    "cell_of_start_df = 'A1'\n",
    "# upload the dataframe of the clients we want to delete\n",
    "d2g.upload(df,\n",
    "           spreadsheet_key,\n",
    "           wks_name,\n",
    "           credentials=credentials,\n",
    "           col_names=True,\n",
    "           row_names=False,\n",
    "           start_cell = cell_of_start_df,\n",
    "           clean=False)\n",
    "print ('The sheet is updated successfully')"
   ]
  },
  {
   "cell_type": "code",
   "execution_count": 88,
   "id": "b867094d",
   "metadata": {},
   "outputs": [
    {
     "name": "stdout",
     "output_type": "stream",
     "text": [
      "bot1-404120 i-see-dead-people global\n"
     ]
    }
   ],
   "source": [
    "project_id = sh.worksheet('Main').acell('B1').value\n",
    "display_name = sh.worksheet('Main').acell('B2').value\n",
    "gcp_region = sh.worksheet('Main').acell('B3').value\n",
    "zone = sh.worksheet('Main').acell('B4').value\n",
    "language = sh.worksheet('Main').acell('B5').value\n",
    "time_zone = sh.worksheet('Main').acell('B6').value\n",
    "creds_path = sh.worksheet('Main').acell('B8').value\n",
    "\n",
    "print(project_id, display_name, gcp_region)"
   ]
  },
  {
   "cell_type": "code",
   "execution_count": 27,
   "id": "fe26f6e7",
   "metadata": {},
   "outputs": [],
   "source": [
    "\n",
    "# First we will instansiate our Agent object\n",
    "a = Agents(creds_path=creds_path)\n",
    "\n",
    "# Then we will call the `create_agent` method and capture the result in a var call `my_agent`\n",
    "my_agent = a.create_agent(project_id, display_name, gcp_region)"
   ]
  },
  {
   "cell_type": "code",
   "execution_count": 28,
   "id": "095e3691",
   "metadata": {},
   "outputs": [
    {
     "name": "stdout",
     "output_type": "stream",
     "text": [
      "name: \"projects/bot1-404120/locations/global/agents/694bb9af-b694-43a2-b55e-7efbf1216ce1\"\n",
      "display_name: \"i-see-dead-people\"\n",
      "default_language_code: \"en\"\n",
      "time_zone: \"America/Chicago\"\n",
      "start_flow: \"projects/bot1-404120/locations/global/agents/694bb9af-b694-43a2-b55e-7efbf1216ce1/flows/00000000-0000-0000-0000-000000000000\"\n",
      "advanced_settings {\n",
      "  logging_settings {\n",
      "  }\n",
      "}\n",
      "\n"
     ]
    }
   ],
   "source": [
    "print(my_agent)"
   ]
  },
  {
   "cell_type": "code",
   "execution_count": 44,
   "id": "611b7de3",
   "metadata": {},
   "outputs": [],
   "source": [
    "###########\n",
    "###########\n",
    "#IMPORT ENTITIES TESTING\n",
    "from dfcx_scrapi.core.entity_types import EntityTypes\n",
    "from google.cloud.dialogflowcx_v3beta1 import types\n",
    "\n",
    "\n",
    "####\n",
    "from dfcx_scrapi.core.agents import Agents\n",
    "from dfcx_scrapi.core.flows import Flows\n",
    "from dfcx_scrapi.core.intents import Intents\n",
    "from dfcx_scrapi.core.pages import Pages\n",
    "from dfcx_scrapi.core.webhooks import Webhooks\n",
    "from dfcx_scrapi.core.entity_types import EntityTypes\n",
    "from dfcx_scrapi.core.environments import Environments\n",
    "from dfcx_scrapi.core.transition_route_groups import TransitionRouteGroups\n",
    "from dfcx_scrapi.tools.dataframe_functions import DataframeFunctions\n",
    "\n",
    "import time\n",
    "\n"
   ]
  },
  {
   "cell_type": "code",
   "execution_count": 45,
   "id": "d24491fe",
   "metadata": {},
   "outputs": [],
   "source": [
    "agent_display_name = \"bc-records-agent\"\n"
   ]
  },
  {
   "cell_type": "code",
   "execution_count": 46,
   "id": "57f673c6",
   "metadata": {},
   "outputs": [
    {
     "name": "stdout",
     "output_type": "stream",
     "text": [
      "name: \"projects/bot1-404120/locations/global/agents/a8b82c5c-9170-4604-8a4c-362a0004a97f\"\n",
      "display_name: \"bc-records-agent\"\n",
      "default_language_code: \"en\"\n",
      "time_zone: \"America/New_York\"\n",
      "speech_to_text_settings {\n",
      "}\n",
      "start_flow: \"projects/bot1-404120/locations/global/agents/a8b82c5c-9170-4604-8a4c-362a0004a97f/flows/00000000-0000-0000-0000-000000000000\"\n",
      "advanced_settings {\n",
      "  audio_export_gcs_destination {\n",
      "  }\n",
      "  logging_settings {\n",
      "  }\n",
      "}\n",
      "text_to_speech_settings {\n",
      "}\n",
      "\n"
     ]
    }
   ],
   "source": [
    "# Instantiate the core classes\n",
    "agents_instance = Agents(creds_path=creds_path)\n",
    "flows_instance = Flows(creds_path=creds_path)\n",
    "intents_instance = Intents(creds_path=creds_path)\n",
    "pages_instance = Pages(creds_path=creds_path)\n",
    "entity_types_instance = EntityTypes(creds_path=creds_path)\n",
    "webhooks_instance = Webhooks(creds_path=creds_path)\n",
    "environments_instance = Environments(creds_path=creds_path)\n",
    "route_groups_instance = TransitionRouteGroups(creds_path=creds_path)\n",
    "\n",
    "# Instantiate the tools classes\n",
    "dffx_instance = DataframeFunctions(creds_path=creds_path)\n",
    "\n",
    "# Get the Agent and its ID\n",
    "my_agent = agents_instance.get_agent_by_display_name(\n",
    "    project_id=project_id, display_name=agent_display_name\n",
    ")\n",
    "\n",
    "agent_id = my_agent.name\n",
    "\n",
    "print(my_agent)"
   ]
  },
  {
   "cell_type": "code",
   "execution_count": 47,
   "id": "208a1a51",
   "metadata": {},
   "outputs": [],
   "source": [
    "os.environ[\"GOOGLE_APPLICATION_CREDENTIALS\"] = creds_path"
   ]
  },
  {
   "cell_type": "code",
   "execution_count": 55,
   "id": "a294f322",
   "metadata": {},
   "outputs": [
    {
     "name": "stdout",
     "output_type": "stream",
     "text": [
      "name: \"projects/bot1-404120/locations/global/agents/a8b82c5c-9170-4604-8a4c-362a0004a97f\"\n",
      "display_name: \"bc-records-agent\"\n",
      "default_language_code: \"en\"\n",
      "time_zone: \"America/New_York\"\n",
      "speech_to_text_settings {\n",
      "}\n",
      "start_flow: \"projects/bot1-404120/locations/global/agents/a8b82c5c-9170-4604-8a4c-362a0004a97f/flows/00000000-0000-0000-0000-000000000000\"\n",
      "advanced_settings {\n",
      "  audio_export_gcs_destination {\n",
      "  }\n",
      "  logging_settings {\n",
      "  }\n",
      "}\n",
      "text_to_speech_settings {\n",
      "}\n",
      "\n"
     ]
    }
   ],
   "source": [
    "# Instantiate the core classes\n",
    "agents_instance = Agents(creds_path=creds_path)\n",
    "flows_instance = Flows(creds_path=creds_path)\n",
    "intents_instance = Intents(creds_path=creds_path)\n",
    "pages_instance = Pages(creds_path=creds_path)\n",
    "entity_types_instance = EntityTypes(creds_path=creds_path)\n",
    "webhooks_instance = Webhooks(creds_path=creds_path)\n",
    "environments_instance = Environments(creds_path=creds_path)\n",
    "route_groups_instance = TransitionRouteGroups(creds_path=creds_path)\n",
    "\n",
    "# Instantiate the tools classes\n",
    "dffx_instance = DataframeFunctions(creds_path=creds_path)\n",
    "\n",
    "# Get the Agent and its ID\n",
    "my_agent = agents_instance.get_agent_by_display_name(\n",
    "    project_id=project_id, display_name=agent_display_name\n",
    ")\n",
    "\n",
    "agent_id = my_agent.name\n",
    "\n",
    "print(my_agent)"
   ]
  },
  {
   "cell_type": "code",
   "execution_count": 57,
   "id": "f5194e84",
   "metadata": {},
   "outputs": [],
   "source": []
  },
  {
   "cell_type": "code",
   "execution_count": 87,
   "id": "58caca41",
   "metadata": {},
   "outputs": [
    {
     "name": "stderr",
     "output_type": "stream",
     "text": [
      "2023-11-28 07:07:58 WARNING  Retrying (Retry(total=2, connect=None, read=None, redirect=None, status=None)) after connection broken by 'SSLError(SSLEOFError(8, '[SSL: UNEXPECTED_EOF_WHILE_READING] EOF occurred in violation of protocol (_ssl.c:1006)'))': /token\n"
     ]
    },
    {
     "name": "stdout",
     "output_type": "stream",
     "text": [
      "The sheet is updated successfully\n"
     ]
    }
   ],
   "source": [
    "# Load the entity types\n",
    "all_entity_types = entity_types_instance.list_entity_types(agent_id=agent_id)\n",
    "\n",
    "df = pd.DataFrame(all_entity_types)\n",
    "\n",
    "# result = {} # empty dictionary\n",
    "# for li in all_entity_types:\n",
    "#     result.setdefault(li[0],[]).append(li[1])\n",
    "# print(result)\n",
    "\n",
    "# print(df)\n",
    "\n",
    "# print(all_entity_types)\n",
    "# type(all_entity_types)\n",
    "\n",
    "\n",
    "\n",
    "wks_name = 'entityTypes'\n",
    "cell_of_start_df = 'A1'\n",
    "# upload the dataframe of the clients we want to delete\n",
    "d2g.upload(df,\n",
    "           spreadsheet_key,\n",
    "           wks_name,\n",
    "           credentials=credentials,\n",
    "           col_names=True,\n",
    "           row_names=False,\n",
    "           start_cell = cell_of_start_df,\n",
    "           clean=True)\n",
    "print ('The sheet is updated successfully')\n",
    "\n"
   ]
  },
  {
   "cell_type": "code",
   "execution_count": 79,
   "id": "ccd8277e",
   "metadata": {},
   "outputs": [],
   "source": [
    "# result = {} # empty dictionary\n",
    "# for li in all_entity_types:\n",
    "#     result.setdefault(li[0],[]).append(li[1])\n",
    "# print(result)"
   ]
  },
  {
   "cell_type": "code",
   "execution_count": 84,
   "id": "d062c7b5",
   "metadata": {},
   "outputs": [
    {
     "name": "stdout",
     "output_type": "stream",
     "text": [
      "  projects/bot1-404120/locations/global/agents/a8b82c5c-9170-4604-8a4c-362a0004a97f/entityTypes/1eaf1daa-8ca2-4da7-a6b7-ecea74e686a6   \n",
      "1                                              Merch                                                                                  \\\n",
      "\n",
      "  projects/bot1-404120/locations/global/agents/a8b82c5c-9170-4604-8a4c-362a0004a97f/entityTypes/35b9278a-d85c-4fc9-a4c8-92fd393a88b9   \n",
      "1                                        OrderNumber                                                                                  \\\n",
      "\n",
      "  projects/bot1-404120/locations/global/agents/a8b82c5c-9170-4604-8a4c-362a0004a97f/entityTypes/54ae6823-bde5-4c1b-b1f7-5033d9110d30   \n",
      "1                                     Artist_Aliases                                                                                  \\\n",
      "\n",
      "  projects/bot1-404120/locations/global/agents/a8b82c5c-9170-4604-8a4c-362a0004a97f/entityTypes/54f60746-ab31-44e3-8a21-eae3daef615b   \n",
      "1                                              Album                                                                                  \\\n",
      "\n",
      "  projects/bot1-404120/locations/global/agents/a8b82c5c-9170-4604-8a4c-362a0004a97f/entityTypes/73a527be-70ab-41dd-a4b1-b232e6e1efec   \n",
      "1                                             Artist                                                                                  \\\n",
      "\n",
      "  projects/bot1-404120/locations/global/agents/a8b82c5c-9170-4604-8a4c-362a0004a97f/entityTypes/cef71116-d2c0-4b08-911c-b69a94ce123c   \n",
      "1                                          ShirtSize                                                                                  \\\n",
      "\n",
      "  projects/bot1-404120/locations/global/agents/a8b82c5c-9170-4604-8a4c-362a0004a97f/entityTypes/ffe7ed52-9571-449c-b078-be969c2171f2  \n",
      "1                                               size                                                                                  \n",
      "The sheet is updated successfully\n"
     ]
    }
   ],
   "source": [
    "entity_types_map = entity_types_instance.get_entities_map(agent_id=agent_id)\n",
    "\n",
    "df = pd.DataFrame(entity_types_map,index=[1])\n",
    "df.reset_index(drop=True)\n",
    "# result = {} # empty dictionary\n",
    "# for li in df:\n",
    "#     result.setdefault(li[0],[]).append(li[1])\n",
    "# print(result)\n",
    "print(df)\n",
    "# print(entity_types_map)\n",
    "# type(entity_types_map)\n",
    "\n",
    "wks_name = 'entityMap'\n",
    "cell_of_start_df = 'A1'\n",
    "# upload the dataframe of the clients we want to delete\n",
    "d2g.upload(df,\n",
    "           spreadsheet_key,\n",
    "           wks_name,\n",
    "           credentials=credentials,\n",
    "           col_names=True,\n",
    "           row_names=False,\n",
    "           start_cell = cell_of_start_df,\n",
    "           clean=True)\n",
    "print ('The sheet is updated successfully')"
   ]
  },
  {
   "cell_type": "code",
   "execution_count": 85,
   "id": "a0ddd2c8",
   "metadata": {},
   "outputs": [
    {
     "name": "stdout",
     "output_type": "stream",
     "text": [
      "                                               Merch   \n",
      "1  projects/bot1-404120/locations/global/agents/a...  \\\n",
      "\n",
      "                                         OrderNumber   \n",
      "1  projects/bot1-404120/locations/global/agents/a...  \\\n",
      "\n",
      "                                      Artist_Aliases   \n",
      "1  projects/bot1-404120/locations/global/agents/a...  \\\n",
      "\n",
      "                                               Album   \n",
      "1  projects/bot1-404120/locations/global/agents/a...  \\\n",
      "\n",
      "                                              Artist   \n",
      "1  projects/bot1-404120/locations/global/agents/a...  \\\n",
      "\n",
      "                                           ShirtSize   \n",
      "1  projects/bot1-404120/locations/global/agents/a...  \\\n",
      "\n",
      "                                                size  \n",
      "1  projects/bot1-404120/locations/global/agents/a...  \n"
     ]
    },
    {
     "name": "stderr",
     "output_type": "stream",
     "text": [
      "2023-11-28 07:07:11 WARNING  Retrying (Retry(total=2, connect=None, read=None, redirect=None, status=None)) after connection broken by 'SSLError(SSLEOFError(8, '[SSL: UNEXPECTED_EOF_WHILE_READING] EOF occurred in violation of protocol (_ssl.c:1006)'))': /token\n"
     ]
    },
    {
     "name": "stdout",
     "output_type": "stream",
     "text": [
      "The sheet is updated successfully\n"
     ]
    }
   ],
   "source": [
    "entity_types_map_reverse = entity_types_instance.get_entities_map(\n",
    "    agent_id=agent_id, reverse=True\n",
    ")\n",
    "df = pd.DataFrame(entity_types_map_reverse,index=[1])\n",
    "df.reset_index(drop=True)\n",
    "# result = {} # empty dictionary\n",
    "# for li in df:\n",
    "#     result.setdefault(li[0],[]).append(li[1])\n",
    "# print(result)\n",
    "print(df)\n",
    "# print(entity_types_map)\n",
    "# type(entity_types_map)\n",
    "\n",
    "wks_name = 'reverseEntityMap'\n",
    "cell_of_start_df = 'A1'\n",
    "# upload the dataframe of the clients we want to delete\n",
    "d2g.upload(df,\n",
    "           spreadsheet_key,\n",
    "           wks_name,\n",
    "           credentials=credentials,\n",
    "           col_names=True,\n",
    "           row_names=False,\n",
    "           start_cell = cell_of_start_df,\n",
    "           clean=True)\n",
    "print ('The sheet is updated successfully')\n",
    "# print(entity_types_map_reverse)\n",
    "# type(entity_types_map_reverse)"
   ]
  },
  {
   "cell_type": "code",
   "execution_count": 86,
   "id": "a3ad3b82",
   "metadata": {},
   "outputs": [
    {
     "name": "stdout",
     "output_type": "stream",
     "text": [
      "The sheet is updated successfully\n"
     ]
    }
   ],
   "source": [
    "# Load the intents\n",
    "all_intents = intents_instance.list_intents(agent_id=agent_id)\n",
    "\n",
    "df = pd.DataFrame(all_intents)\n",
    "df.reset_index(drop=True)\n",
    "# result = {} # empty dictionary\n",
    "# for li in all_entity_types:\n",
    "#     result.setdefault(li[0],[]).append(li[1])\n",
    "# print(result)\n",
    "\n",
    "# print(df)\n",
    "\n",
    "# print(all_entity_types)\n",
    "# type(all_entity_types)\n",
    "\n",
    "\n",
    "\n",
    "wks_name = 'Intents'\n",
    "cell_of_start_df = 'A1'\n",
    "# upload the dataframe of the clients we want to delete\n",
    "d2g.upload(df,\n",
    "           spreadsheet_key,\n",
    "           wks_name,\n",
    "           credentials=credentials,\n",
    "           col_names=True,\n",
    "           row_names=False,\n",
    "           start_cell = cell_of_start_df,\n",
    "           clean=True)\n",
    "print ('The sheet is updated successfully')\n",
    "\n",
    "\n",
    "intents_map = intents_instance.get_intents_map(agent_id=agent_id)\n",
    "intents_map_reverse = intents_instance.get_intents_map(\n",
    "    agent_id=agent_id, reverse=True\n",
    ")\n"
   ]
  },
  {
   "cell_type": "code",
   "execution_count": 101,
   "id": "02e9fbfc",
   "metadata": {},
   "outputs": [],
   "source": [
    "from dfcx_scrapi.tools.copy_util import CopyUtil\n",
    "\n",
    "agent_id = 'a8b82c5c-9170-4604-8a4c-362a0004a97f'\n",
    "source_flow = 'Default Start Flow'\n",
    "target_flow = 'My Target Flow'\n"
   ]
  },
  {
   "cell_type": "code",
   "execution_count": 102,
   "id": "54caa3a6",
   "metadata": {},
   "outputs": [
    {
     "name": "stderr",
     "output_type": "stream",
     "text": [
      "2023-11-28 07:36:58 ERROR    IndexError - path too short? a8b82c5c-9170-4604-8a4c-362a0004a97f\n"
     ]
    },
    {
     "ename": "IndexError",
     "evalue": "list index out of range",
     "output_type": "error",
     "traceback": [
      "\u001b[0;31m---------------------------------------------------------------------------\u001b[0m",
      "\u001b[0;31mIndexError\u001b[0m                                Traceback (most recent call last)",
      "Cell \u001b[0;32mIn[102], line 3\u001b[0m\n\u001b[1;32m      1\u001b[0m cu \u001b[38;5;241m=\u001b[39m CopyUtil(creds_path)\n\u001b[0;32m----> 3\u001b[0m flows_map \u001b[38;5;241m=\u001b[39m \u001b[43mcu\u001b[49m\u001b[38;5;241;43m.\u001b[39;49m\u001b[43mflows\u001b[49m\u001b[38;5;241;43m.\u001b[39;49m\u001b[43mget_flows_map\u001b[49m\u001b[43m(\u001b[49m\u001b[43magent_id\u001b[49m\u001b[43m,\u001b[49m\u001b[43m \u001b[49m\u001b[43mreverse\u001b[49m\u001b[38;5;241;43m=\u001b[39;49m\u001b[38;5;28;43;01mTrue\u001b[39;49;00m\u001b[43m)\u001b[49m\n",
      "File \u001b[0;32m/usr/local/lib/python3.11/site-packages/dfcx_scrapi/core/flows.py:124\u001b[0m, in \u001b[0;36mFlows.get_flows_map\u001b[0;34m(self, agent_id, reverse)\u001b[0m\n\u001b[1;32m    111\u001b[0m \u001b[38;5;250m\u001b[39m\u001b[38;5;124;03m\"\"\"Exports Agent Flow Names and UUIDs into a user friendly dict.\u001b[39;00m\n\u001b[1;32m    112\u001b[0m \n\u001b[1;32m    113\u001b[0m \u001b[38;5;124;03mArgs:\u001b[39;00m\n\u001b[0;32m   (...)\u001b[0m\n\u001b[1;32m    118\u001b[0m \u001b[38;5;124;03m  Dictionary containing flow UUIDs as keys and display names as values\u001b[39;00m\n\u001b[1;32m    119\u001b[0m \u001b[38;5;124;03m\"\"\"\u001b[39;00m\n\u001b[1;32m    121\u001b[0m \u001b[38;5;28;01mif\u001b[39;00m reverse:\n\u001b[1;32m    122\u001b[0m     flows_dict \u001b[38;5;241m=\u001b[39m {\n\u001b[1;32m    123\u001b[0m         flow\u001b[38;5;241m.\u001b[39mdisplay_name: flow\u001b[38;5;241m.\u001b[39mname\n\u001b[0;32m--> 124\u001b[0m         \u001b[38;5;28;01mfor\u001b[39;00m flow \u001b[38;5;129;01min\u001b[39;00m \u001b[38;5;28;43mself\u001b[39;49m\u001b[38;5;241;43m.\u001b[39;49m\u001b[43mlist_flows\u001b[49m\u001b[43m(\u001b[49m\u001b[43magent_id\u001b[49m\u001b[38;5;241;43m=\u001b[39;49m\u001b[43magent_id\u001b[49m\u001b[43m)\u001b[49m\n\u001b[1;32m    125\u001b[0m     }\n\u001b[1;32m    127\u001b[0m \u001b[38;5;28;01melse\u001b[39;00m:\n\u001b[1;32m    128\u001b[0m     flows_dict \u001b[38;5;241m=\u001b[39m {\n\u001b[1;32m    129\u001b[0m         flow\u001b[38;5;241m.\u001b[39mname: flow\u001b[38;5;241m.\u001b[39mdisplay_name\n\u001b[1;32m    130\u001b[0m         \u001b[38;5;28;01mfor\u001b[39;00m flow \u001b[38;5;129;01min\u001b[39;00m \u001b[38;5;28mself\u001b[39m\u001b[38;5;241m.\u001b[39mlist_flows(agent_id\u001b[38;5;241m=\u001b[39magent_id)\n\u001b[1;32m    131\u001b[0m     }\n",
      "File \u001b[0;32m/usr/local/lib/python3.11/site-packages/dfcx_scrapi/core/scrapi_base.py:322\u001b[0m, in \u001b[0;36mapi_call_counter_decorator.<locals>.wrapper\u001b[0;34m(self, *args, **kwargs)\u001b[0m\n\u001b[1;32m    319\u001b[0m \u001b[38;5;129m@functools\u001b[39m\u001b[38;5;241m.\u001b[39mwraps(func)\n\u001b[1;32m    320\u001b[0m \u001b[38;5;28;01mdef\u001b[39;00m \u001b[38;5;21mwrapper\u001b[39m(\u001b[38;5;28mself\u001b[39m, \u001b[38;5;241m*\u001b[39margs, \u001b[38;5;241m*\u001b[39m\u001b[38;5;241m*\u001b[39mkwargs):\n\u001b[1;32m    321\u001b[0m     \u001b[38;5;28mself\u001b[39m\u001b[38;5;241m.\u001b[39mapi_calls_dict[func\u001b[38;5;241m.\u001b[39m\u001b[38;5;18m__name__\u001b[39m] \u001b[38;5;241m+\u001b[39m\u001b[38;5;241m=\u001b[39m \u001b[38;5;241m1\u001b[39m\n\u001b[0;32m--> 322\u001b[0m     \u001b[38;5;28;01mreturn\u001b[39;00m \u001b[43mfunc\u001b[49m\u001b[43m(\u001b[49m\u001b[38;5;28;43mself\u001b[39;49m\u001b[43m,\u001b[49m\u001b[43m \u001b[49m\u001b[38;5;241;43m*\u001b[39;49m\u001b[43margs\u001b[49m\u001b[43m,\u001b[49m\u001b[43m \u001b[49m\u001b[38;5;241;43m*\u001b[39;49m\u001b[38;5;241;43m*\u001b[39;49m\u001b[43mkwargs\u001b[49m\u001b[43m)\u001b[49m\n",
      "File \u001b[0;32m/usr/local/lib/python3.11/site-packages/dfcx_scrapi/core/flows.py:209\u001b[0m, in \u001b[0;36mFlows.list_flows\u001b[0;34m(self, agent_id)\u001b[0m\n\u001b[1;32m    206\u001b[0m request \u001b[38;5;241m=\u001b[39m types\u001b[38;5;241m.\u001b[39mflow\u001b[38;5;241m.\u001b[39mListFlowsRequest()\n\u001b[1;32m    207\u001b[0m request\u001b[38;5;241m.\u001b[39mparent \u001b[38;5;241m=\u001b[39m agent_id\n\u001b[0;32m--> 209\u001b[0m client_options \u001b[38;5;241m=\u001b[39m \u001b[38;5;28;43mself\u001b[39;49m\u001b[38;5;241;43m.\u001b[39;49m\u001b[43m_set_region\u001b[49m\u001b[43m(\u001b[49m\u001b[43magent_id\u001b[49m\u001b[43m)\u001b[49m\n\u001b[1;32m    210\u001b[0m client \u001b[38;5;241m=\u001b[39m services\u001b[38;5;241m.\u001b[39mflows\u001b[38;5;241m.\u001b[39mFlowsClient(\n\u001b[1;32m    211\u001b[0m     credentials\u001b[38;5;241m=\u001b[39m\u001b[38;5;28mself\u001b[39m\u001b[38;5;241m.\u001b[39mcreds, client_options\u001b[38;5;241m=\u001b[39mclient_options\n\u001b[1;32m    212\u001b[0m )\n\u001b[1;32m    213\u001b[0m response \u001b[38;5;241m=\u001b[39m client\u001b[38;5;241m.\u001b[39mlist_flows(request)\n",
      "File \u001b[0;32m/usr/local/lib/python3.11/site-packages/dfcx_scrapi/core/scrapi_base.py:95\u001b[0m, in \u001b[0;36mScrapiBase._set_region\u001b[0;34m(resource_id)\u001b[0m\n\u001b[1;32m     93\u001b[0m \u001b[38;5;28;01mexcept\u001b[39;00m \u001b[38;5;167;01mIndexError\u001b[39;00m \u001b[38;5;28;01mas\u001b[39;00m err:\n\u001b[1;32m     94\u001b[0m     logging\u001b[38;5;241m.\u001b[39merror(\u001b[38;5;124m\"\u001b[39m\u001b[38;5;124mIndexError - path too short? \u001b[39m\u001b[38;5;132;01m%s\u001b[39;00m\u001b[38;5;124m\"\u001b[39m, resource_id)\n\u001b[0;32m---> 95\u001b[0m     \u001b[38;5;28;01mraise\u001b[39;00m err\n\u001b[1;32m     97\u001b[0m project_id \u001b[38;5;241m=\u001b[39m resource_id\u001b[38;5;241m.\u001b[39msplit(\u001b[38;5;124m\"\u001b[39m\u001b[38;5;124m/\u001b[39m\u001b[38;5;124m\"\u001b[39m)[\u001b[38;5;241m1\u001b[39m]\n\u001b[1;32m     99\u001b[0m \u001b[38;5;28;01mif\u001b[39;00m location \u001b[38;5;241m!=\u001b[39m \u001b[38;5;124m\"\u001b[39m\u001b[38;5;124mglobal\u001b[39m\u001b[38;5;124m\"\u001b[39m:\n",
      "File \u001b[0;32m/usr/local/lib/python3.11/site-packages/dfcx_scrapi/core/scrapi_base.py:92\u001b[0m, in \u001b[0;36mScrapiBase._set_region\u001b[0;34m(resource_id)\u001b[0m\n\u001b[1;32m     80\u001b[0m \u001b[38;5;250m\u001b[39m\u001b[38;5;124;03m\"\"\"Different regions have different API endpoints\u001b[39;00m\n\u001b[1;32m     81\u001b[0m \n\u001b[1;32m     82\u001b[0m \u001b[38;5;124;03mArgs:\u001b[39;00m\n\u001b[0;32m   (...)\u001b[0m\n\u001b[1;32m     89\u001b[0m \u001b[38;5;124;03m  if the location is \"global\"\u001b[39;00m\n\u001b[1;32m     90\u001b[0m \u001b[38;5;124;03m\"\"\"\u001b[39;00m\n\u001b[1;32m     91\u001b[0m \u001b[38;5;28;01mtry\u001b[39;00m:\n\u001b[0;32m---> 92\u001b[0m     location \u001b[38;5;241m=\u001b[39m \u001b[43mresource_id\u001b[49m\u001b[38;5;241;43m.\u001b[39;49m\u001b[43msplit\u001b[49m\u001b[43m(\u001b[49m\u001b[38;5;124;43m\"\u001b[39;49m\u001b[38;5;124;43m/\u001b[39;49m\u001b[38;5;124;43m\"\u001b[39;49m\u001b[43m)\u001b[49m\u001b[43m[\u001b[49m\u001b[38;5;241;43m3\u001b[39;49m\u001b[43m]\u001b[49m\n\u001b[1;32m     93\u001b[0m \u001b[38;5;28;01mexcept\u001b[39;00m \u001b[38;5;167;01mIndexError\u001b[39;00m \u001b[38;5;28;01mas\u001b[39;00m err:\n\u001b[1;32m     94\u001b[0m     logging\u001b[38;5;241m.\u001b[39merror(\u001b[38;5;124m\"\u001b[39m\u001b[38;5;124mIndexError - path too short? \u001b[39m\u001b[38;5;132;01m%s\u001b[39;00m\u001b[38;5;124m\"\u001b[39m, resource_id)\n",
      "\u001b[0;31mIndexError\u001b[0m: list index out of range"
     ]
    }
   ],
   "source": [
    "\n",
    "cu = CopyUtil(creds_path)\n",
    "\n",
    "flows_map = cu.flows.get_flows_map(agent_id, reverse=True)\n"
   ]
  },
  {
   "cell_type": "code",
   "execution_count": null,
   "id": "2e79c080",
   "metadata": {},
   "outputs": [],
   "source": [
    "print"
   ]
  }
 ],
 "metadata": {
  "kernelspec": {
   "display_name": "Python 3 (ipykernel)",
   "language": "python",
   "name": "python3"
  },
  "language_info": {
   "codemirror_mode": {
    "name": "ipython",
    "version": 3
   },
   "file_extension": ".py",
   "mimetype": "text/x-python",
   "name": "python",
   "nbconvert_exporter": "python",
   "pygments_lexer": "ipython3",
   "version": "3.11.6"
  }
 },
 "nbformat": 4,
 "nbformat_minor": 5
}
