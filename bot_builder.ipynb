{
 "cells": [
  {
   "cell_type": "code",
   "execution_count": 28,
   "id": "cf09be74-d8ab-46b5-8768-9875e4cadcd5",
   "metadata": {},
   "outputs": [
    {
     "name": "stdout",
     "output_type": "stream",
     "text": [
      "Requirement already satisfied: dfcx-scrapi in /home/trauco/bc-records/venv/lib/python3.10/site-packages (1.9.0)\n",
      "Requirement already satisfied: tabulate in /home/trauco/bc-records/venv/lib/python3.10/site-packages (0.9.0)\n",
      "Requirement already satisfied: gspread_dataframe in /home/trauco/bc-records/venv/lib/python3.10/site-packages (3.3.1)\n",
      "Requirement already satisfied: pandas in /home/trauco/bc-records/venv/lib/python3.10/site-packages (2.1.1)\n",
      "Requirement already satisfied: numpy in /home/trauco/bc-records/venv/lib/python3.10/site-packages (1.26.0)\n",
      "Requirement already satisfied: matplotlib in /home/trauco/bc-records/venv/lib/python3.10/site-packages (3.8.2)\n",
      "Requirement already satisfied: google-cloud-dialogflow-cx in /home/trauco/bc-records/venv/lib/python3.10/site-packages (from dfcx-scrapi) (1.28.0)\n",
      "Requirement already satisfied: six>=1.12.0 in /home/trauco/bc-records/venv/lib/python3.10/site-packages (from gspread_dataframe) (1.16.0)\n",
      "Requirement already satisfied: gspread>=3.0.0 in /home/trauco/bc-records/venv/lib/python3.10/site-packages (from gspread_dataframe) (5.11.3)\n",
      "Requirement already satisfied: pytz>=2020.1 in /home/trauco/bc-records/venv/lib/python3.10/site-packages (from pandas) (2023.3.post1)\n",
      "Requirement already satisfied: tzdata>=2022.1 in /home/trauco/bc-records/venv/lib/python3.10/site-packages (from pandas) (2023.3)\n",
      "Requirement already satisfied: python-dateutil>=2.8.2 in /home/trauco/bc-records/venv/lib/python3.10/site-packages (from pandas) (2.8.2)\n",
      "Requirement already satisfied: pyparsing>=2.3.1 in /home/trauco/bc-records/venv/lib/python3.10/site-packages (from matplotlib) (3.1.1)\n",
      "Requirement already satisfied: kiwisolver>=1.3.1 in /home/trauco/bc-records/venv/lib/python3.10/site-packages (from matplotlib) (1.4.5)\n",
      "Requirement already satisfied: contourpy>=1.0.1 in /home/trauco/bc-records/venv/lib/python3.10/site-packages (from matplotlib) (1.2.0)\n",
      "Requirement already satisfied: cycler>=0.10 in /home/trauco/bc-records/venv/lib/python3.10/site-packages (from matplotlib) (0.12.1)\n",
      "Requirement already satisfied: fonttools>=4.22.0 in /home/trauco/bc-records/venv/lib/python3.10/site-packages (from matplotlib) (4.45.1)\n",
      "Requirement already satisfied: pillow>=8 in /home/trauco/bc-records/venv/lib/python3.10/site-packages (from matplotlib) (10.1.0)\n",
      "Requirement already satisfied: packaging>=20.0 in /home/trauco/bc-records/venv/lib/python3.10/site-packages (from matplotlib) (23.2)\n",
      "Requirement already satisfied: google-auth-oauthlib>=0.4.1 in /home/trauco/bc-records/venv/lib/python3.10/site-packages (from gspread>=3.0.0->gspread_dataframe) (1.1.0)\n",
      "Requirement already satisfied: google-auth>=1.12.0 in /home/trauco/bc-records/venv/lib/python3.10/site-packages (from gspread>=3.0.0->gspread_dataframe) (2.23.4)\n",
      "Requirement already satisfied: google-api-core[grpc]!=2.0.*,!=2.1.*,!=2.10.*,!=2.2.*,!=2.3.*,!=2.4.*,!=2.5.*,!=2.6.*,!=2.7.*,!=2.8.*,!=2.9.*,<3.0.0dev,>=1.34.0 in /home/trauco/bc-records/venv/lib/python3.10/site-packages (from google-cloud-dialogflow-cx->dfcx-scrapi) (2.14.0)\n",
      "Requirement already satisfied: protobuf!=3.20.0,!=3.20.1,!=4.21.0,!=4.21.1,!=4.21.2,!=4.21.3,!=4.21.4,!=4.21.5,<5.0.0dev,>=3.19.5 in /home/trauco/bc-records/venv/lib/python3.10/site-packages (from google-cloud-dialogflow-cx->dfcx-scrapi) (4.25.1)\n",
      "Requirement already satisfied: proto-plus<2.0.0dev,>=1.22.0 in /home/trauco/bc-records/venv/lib/python3.10/site-packages (from google-cloud-dialogflow-cx->dfcx-scrapi) (1.22.3)\n",
      "Requirement already satisfied: googleapis-common-protos<2.0.dev0,>=1.56.2 in /home/trauco/bc-records/venv/lib/python3.10/site-packages (from google-api-core[grpc]!=2.0.*,!=2.1.*,!=2.10.*,!=2.2.*,!=2.3.*,!=2.4.*,!=2.5.*,!=2.6.*,!=2.7.*,!=2.8.*,!=2.9.*,<3.0.0dev,>=1.34.0->google-cloud-dialogflow-cx->dfcx-scrapi) (1.61.0)\n",
      "Requirement already satisfied: requests<3.0.0.dev0,>=2.18.0 in /home/trauco/bc-records/venv/lib/python3.10/site-packages (from google-api-core[grpc]!=2.0.*,!=2.1.*,!=2.10.*,!=2.2.*,!=2.3.*,!=2.4.*,!=2.5.*,!=2.6.*,!=2.7.*,!=2.8.*,!=2.9.*,<3.0.0dev,>=1.34.0->google-cloud-dialogflow-cx->dfcx-scrapi) (2.31.0)\n",
      "Requirement already satisfied: grpcio-status<2.0.dev0,>=1.33.2 in /home/trauco/bc-records/venv/lib/python3.10/site-packages (from google-api-core[grpc]!=2.0.*,!=2.1.*,!=2.10.*,!=2.2.*,!=2.3.*,!=2.4.*,!=2.5.*,!=2.6.*,!=2.7.*,!=2.8.*,!=2.9.*,<3.0.0dev,>=1.34.0->google-cloud-dialogflow-cx->dfcx-scrapi) (1.59.3)\n",
      "Requirement already satisfied: grpcio<2.0dev,>=1.33.2 in /home/trauco/bc-records/venv/lib/python3.10/site-packages (from google-api-core[grpc]!=2.0.*,!=2.1.*,!=2.10.*,!=2.2.*,!=2.3.*,!=2.4.*,!=2.5.*,!=2.6.*,!=2.7.*,!=2.8.*,!=2.9.*,<3.0.0dev,>=1.34.0->google-cloud-dialogflow-cx->dfcx-scrapi) (1.59.3)\n",
      "Requirement already satisfied: pyasn1-modules>=0.2.1 in /home/trauco/bc-records/venv/lib/python3.10/site-packages (from google-auth>=1.12.0->gspread>=3.0.0->gspread_dataframe) (0.3.0)\n",
      "Requirement already satisfied: cachetools<6.0,>=2.0.0 in /home/trauco/bc-records/venv/lib/python3.10/site-packages (from google-auth>=1.12.0->gspread>=3.0.0->gspread_dataframe) (5.3.1)\n",
      "Requirement already satisfied: rsa<5,>=3.1.4 in /home/trauco/bc-records/venv/lib/python3.10/site-packages (from google-auth>=1.12.0->gspread>=3.0.0->gspread_dataframe) (4.9)\n",
      "Requirement already satisfied: requests-oauthlib>=0.7.0 in /home/trauco/bc-records/venv/lib/python3.10/site-packages (from google-auth-oauthlib>=0.4.1->gspread>=3.0.0->gspread_dataframe) (1.3.1)\n",
      "Requirement already satisfied: pyasn1<0.6.0,>=0.4.6 in /home/trauco/bc-records/venv/lib/python3.10/site-packages (from pyasn1-modules>=0.2.1->google-auth>=1.12.0->gspread>=3.0.0->gspread_dataframe) (0.5.0)\n",
      "Requirement already satisfied: certifi>=2017.4.17 in /home/trauco/bc-records/venv/lib/python3.10/site-packages (from requests<3.0.0.dev0,>=2.18.0->google-api-core[grpc]!=2.0.*,!=2.1.*,!=2.10.*,!=2.2.*,!=2.3.*,!=2.4.*,!=2.5.*,!=2.6.*,!=2.7.*,!=2.8.*,!=2.9.*,<3.0.0dev,>=1.34.0->google-cloud-dialogflow-cx->dfcx-scrapi) (2023.7.22)\n",
      "Requirement already satisfied: idna<4,>=2.5 in /home/trauco/bc-records/venv/lib/python3.10/site-packages (from requests<3.0.0.dev0,>=2.18.0->google-api-core[grpc]!=2.0.*,!=2.1.*,!=2.10.*,!=2.2.*,!=2.3.*,!=2.4.*,!=2.5.*,!=2.6.*,!=2.7.*,!=2.8.*,!=2.9.*,<3.0.0dev,>=1.34.0->google-cloud-dialogflow-cx->dfcx-scrapi) (3.4)\n",
      "Requirement already satisfied: urllib3<3,>=1.21.1 in /home/trauco/bc-records/venv/lib/python3.10/site-packages (from requests<3.0.0.dev0,>=2.18.0->google-api-core[grpc]!=2.0.*,!=2.1.*,!=2.10.*,!=2.2.*,!=2.3.*,!=2.4.*,!=2.5.*,!=2.6.*,!=2.7.*,!=2.8.*,!=2.9.*,<3.0.0dev,>=1.34.0->google-cloud-dialogflow-cx->dfcx-scrapi) (2.0.6)\n",
      "Requirement already satisfied: charset-normalizer<4,>=2 in /home/trauco/bc-records/venv/lib/python3.10/site-packages (from requests<3.0.0.dev0,>=2.18.0->google-api-core[grpc]!=2.0.*,!=2.1.*,!=2.10.*,!=2.2.*,!=2.3.*,!=2.4.*,!=2.5.*,!=2.6.*,!=2.7.*,!=2.8.*,!=2.9.*,<3.0.0dev,>=1.34.0->google-cloud-dialogflow-cx->dfcx-scrapi) (3.3.0)\n",
      "Requirement already satisfied: oauthlib>=3.0.0 in /home/trauco/bc-records/venv/lib/python3.10/site-packages (from requests-oauthlib>=0.7.0->google-auth-oauthlib>=0.4.1->gspread>=3.0.0->gspread_dataframe) (3.2.2)\n",
      "Note: you may need to restart the kernel to use updated packages.\n"
     ]
    }
   ],
   "source": [
    "%pip install dfcx-scrapi tabulate gspread_dataframe pandas numpy matplotlib"
   ]
  },
  {
   "cell_type": "code",
   "execution_count": 29,
   "id": "b1d1c95c-4a4b-44b2-92c0-d53cd3424d62",
   "metadata": {},
   "outputs": [],
   "source": [
    "import pandas as pd\n",
    "\n",
    "from dfcx_scrapi.core.agents import Agents\n",
    "from dfcx_scrapi.core.intents import Intents\n",
    "from dfcx_scrapi.core.flows import Flows\n",
    "from dfcx_scrapi.core.pages import Pages\n",
    "from dfcx_scrapi.tools.dataframe_functions import DataframeFunctions\n",
    "from dfcx_scrapi.tools.maker_util import MakerUtil\n",
    "import csv\n",
    "\n",
    "creds_path = '/home/trauco/.config/secrets/cx_admin_sa.json'"
   ]
  },
  {
   "cell_type": "code",
   "execution_count": 30,
   "id": "5fbbfb9e-18f8-4705-b30d-142bcd601433",
   "metadata": {},
   "outputs": [
    {
     "ename": "AlreadyExists",
     "evalue": "409 com.google.apps.framework.request.AlreadyExistsException: Agent with display name 'agent1' already exists in the project. Code: ALREADY_EXISTS",
     "output_type": "error",
     "traceback": [
      "\u001b[0;31m---------------------------------------------------------------------------\u001b[0m",
      "\u001b[0;31m_InactiveRpcError\u001b[0m                         Traceback (most recent call last)",
      "File \u001b[0;32m~/bc-records/venv/lib/python3.10/site-packages/google/api_core/grpc_helpers.py:75\u001b[0m, in \u001b[0;36m_wrap_unary_errors.<locals>.error_remapped_callable\u001b[0;34m(*args, **kwargs)\u001b[0m\n\u001b[1;32m     74\u001b[0m \u001b[38;5;28;01mtry\u001b[39;00m:\n\u001b[0;32m---> 75\u001b[0m     \u001b[38;5;28;01mreturn\u001b[39;00m \u001b[43mcallable_\u001b[49m\u001b[43m(\u001b[49m\u001b[38;5;241;43m*\u001b[39;49m\u001b[43margs\u001b[49m\u001b[43m,\u001b[49m\u001b[43m \u001b[49m\u001b[38;5;241;43m*\u001b[39;49m\u001b[38;5;241;43m*\u001b[39;49m\u001b[43mkwargs\u001b[49m\u001b[43m)\u001b[49m\n\u001b[1;32m     76\u001b[0m \u001b[38;5;28;01mexcept\u001b[39;00m grpc\u001b[38;5;241m.\u001b[39mRpcError \u001b[38;5;28;01mas\u001b[39;00m exc:\n",
      "File \u001b[0;32m~/bc-records/venv/lib/python3.10/site-packages/grpc/_channel.py:1161\u001b[0m, in \u001b[0;36m_UnaryUnaryMultiCallable.__call__\u001b[0;34m(self, request, timeout, metadata, credentials, wait_for_ready, compression)\u001b[0m\n\u001b[1;32m   1155\u001b[0m (\n\u001b[1;32m   1156\u001b[0m     state,\n\u001b[1;32m   1157\u001b[0m     call,\n\u001b[1;32m   1158\u001b[0m ) \u001b[38;5;241m=\u001b[39m \u001b[38;5;28mself\u001b[39m\u001b[38;5;241m.\u001b[39m_blocking(\n\u001b[1;32m   1159\u001b[0m     request, timeout, metadata, credentials, wait_for_ready, compression\n\u001b[1;32m   1160\u001b[0m )\n\u001b[0;32m-> 1161\u001b[0m \u001b[38;5;28;01mreturn\u001b[39;00m \u001b[43m_end_unary_response_blocking\u001b[49m\u001b[43m(\u001b[49m\u001b[43mstate\u001b[49m\u001b[43m,\u001b[49m\u001b[43m \u001b[49m\u001b[43mcall\u001b[49m\u001b[43m,\u001b[49m\u001b[43m \u001b[49m\u001b[38;5;28;43;01mFalse\u001b[39;49;00m\u001b[43m,\u001b[49m\u001b[43m \u001b[49m\u001b[38;5;28;43;01mNone\u001b[39;49;00m\u001b[43m)\u001b[49m\n",
      "File \u001b[0;32m~/bc-records/venv/lib/python3.10/site-packages/grpc/_channel.py:1004\u001b[0m, in \u001b[0;36m_end_unary_response_blocking\u001b[0;34m(state, call, with_call, deadline)\u001b[0m\n\u001b[1;32m   1003\u001b[0m \u001b[38;5;28;01melse\u001b[39;00m:\n\u001b[0;32m-> 1004\u001b[0m     \u001b[38;5;28;01mraise\u001b[39;00m _InactiveRpcError(state)\n",
      "\u001b[0;31m_InactiveRpcError\u001b[0m: <_InactiveRpcError of RPC that terminated with:\n\tstatus = StatusCode.ALREADY_EXISTS\n\tdetails = \"com.google.apps.framework.request.AlreadyExistsException: Agent with display name 'agent1' already exists in the project. Code: ALREADY_EXISTS\"\n\tdebug_error_string = \"UNKNOWN:Error received from peer ipv6:%5B2607:f8b0:4023::5f%5D:443 {grpc_message:\"com.google.apps.framework.request.AlreadyExistsException: Agent with display name \\'agent1\\' already exists in the project. Code: ALREADY_EXISTS\", grpc_status:6, created_time:\"2023-11-25T16:34:38.314069803-05:00\"}\"\n>",
      "\nThe above exception was the direct cause of the following exception:\n",
      "\u001b[0;31mAlreadyExists\u001b[0m                             Traceback (most recent call last)",
      "Cell \u001b[0;32mIn[30], line 10\u001b[0m\n\u001b[1;32m      7\u001b[0m gcp_region \u001b[38;5;241m=\u001b[39m \u001b[38;5;124m'\u001b[39m\u001b[38;5;124mglobal\u001b[39m\u001b[38;5;124m'\u001b[39m\n\u001b[1;32m      9\u001b[0m \u001b[38;5;66;03m# Then we will call the `create_agent` method and capture the result in a var call `my_agent`\u001b[39;00m\n\u001b[0;32m---> 10\u001b[0m my_agent \u001b[38;5;241m=\u001b[39m \u001b[43ma\u001b[49m\u001b[38;5;241;43m.\u001b[39;49m\u001b[43mcreate_agent\u001b[49m\u001b[43m(\u001b[49m\u001b[43mproject_id\u001b[49m\u001b[43m,\u001b[49m\u001b[43m \u001b[49m\u001b[43mdisplay_name\u001b[49m\u001b[43m,\u001b[49m\u001b[43m \u001b[49m\u001b[43mgcp_region\u001b[49m\u001b[43m)\u001b[49m\n",
      "File \u001b[0;32m~/bc-records/venv/lib/python3.10/site-packages/dfcx_scrapi/core/scrapi_base.py:322\u001b[0m, in \u001b[0;36mapi_call_counter_decorator.<locals>.wrapper\u001b[0;34m(self, *args, **kwargs)\u001b[0m\n\u001b[1;32m    319\u001b[0m \u001b[38;5;129m@functools\u001b[39m\u001b[38;5;241m.\u001b[39mwraps(func)\n\u001b[1;32m    320\u001b[0m \u001b[38;5;28;01mdef\u001b[39;00m \u001b[38;5;21mwrapper\u001b[39m(\u001b[38;5;28mself\u001b[39m, \u001b[38;5;241m*\u001b[39margs, \u001b[38;5;241m*\u001b[39m\u001b[38;5;241m*\u001b[39mkwargs):\n\u001b[1;32m    321\u001b[0m     \u001b[38;5;28mself\u001b[39m\u001b[38;5;241m.\u001b[39mapi_calls_dict[func\u001b[38;5;241m.\u001b[39m\u001b[38;5;18m__name__\u001b[39m] \u001b[38;5;241m+\u001b[39m\u001b[38;5;241m=\u001b[39m \u001b[38;5;241m1\u001b[39m\n\u001b[0;32m--> 322\u001b[0m     \u001b[38;5;28;01mreturn\u001b[39;00m \u001b[43mfunc\u001b[49m\u001b[43m(\u001b[49m\u001b[38;5;28;43mself\u001b[39;49m\u001b[43m,\u001b[49m\u001b[43m \u001b[49m\u001b[38;5;241;43m*\u001b[39;49m\u001b[43margs\u001b[49m\u001b[43m,\u001b[49m\u001b[43m \u001b[49m\u001b[38;5;241;43m*\u001b[39;49m\u001b[38;5;241;43m*\u001b[39;49m\u001b[43mkwargs\u001b[49m\u001b[43m)\u001b[49m\n",
      "File \u001b[0;32m~/bc-records/venv/lib/python3.10/site-packages/dfcx_scrapi/core/agents.py:272\u001b[0m, in \u001b[0;36mAgents.create_agent\u001b[0;34m(self, project_id, display_name, gcp_region, obj, **kwargs)\u001b[0m\n\u001b[1;32m    268\u001b[0m client_options \u001b[38;5;241m=\u001b[39m \u001b[38;5;28mself\u001b[39m\u001b[38;5;241m.\u001b[39m_set_region(parent)\n\u001b[1;32m    269\u001b[0m client \u001b[38;5;241m=\u001b[39m services\u001b[38;5;241m.\u001b[39magents\u001b[38;5;241m.\u001b[39mAgentsClient(\n\u001b[1;32m    270\u001b[0m     credentials\u001b[38;5;241m=\u001b[39m\u001b[38;5;28mself\u001b[39m\u001b[38;5;241m.\u001b[39mcreds, client_options\u001b[38;5;241m=\u001b[39mclient_options\n\u001b[1;32m    271\u001b[0m )\n\u001b[0;32m--> 272\u001b[0m response \u001b[38;5;241m=\u001b[39m \u001b[43mclient\u001b[49m\u001b[38;5;241;43m.\u001b[39;49m\u001b[43mcreate_agent\u001b[49m\u001b[43m(\u001b[49m\u001b[43mparent\u001b[49m\u001b[38;5;241;43m=\u001b[39;49m\u001b[43mparent\u001b[49m\u001b[43m,\u001b[49m\u001b[43m \u001b[49m\u001b[43magent\u001b[49m\u001b[38;5;241;43m=\u001b[39;49m\u001b[43magent_obj\u001b[49m\u001b[43m)\u001b[49m\n\u001b[1;32m    274\u001b[0m \u001b[38;5;28;01mreturn\u001b[39;00m response\n",
      "File \u001b[0;32m~/bc-records/venv/lib/python3.10/site-packages/google/cloud/dialogflowcx_v3beta1/services/agents/client.py:954\u001b[0m, in \u001b[0;36mAgentsClient.create_agent\u001b[0;34m(self, request, parent, agent, retry, timeout, metadata)\u001b[0m\n\u001b[1;32m    949\u001b[0m metadata \u001b[38;5;241m=\u001b[39m \u001b[38;5;28mtuple\u001b[39m(metadata) \u001b[38;5;241m+\u001b[39m (\n\u001b[1;32m    950\u001b[0m     gapic_v1\u001b[38;5;241m.\u001b[39mrouting_header\u001b[38;5;241m.\u001b[39mto_grpc_metadata(((\u001b[38;5;124m\"\u001b[39m\u001b[38;5;124mparent\u001b[39m\u001b[38;5;124m\"\u001b[39m, request\u001b[38;5;241m.\u001b[39mparent),)),\n\u001b[1;32m    951\u001b[0m )\n\u001b[1;32m    953\u001b[0m \u001b[38;5;66;03m# Send the request.\u001b[39;00m\n\u001b[0;32m--> 954\u001b[0m response \u001b[38;5;241m=\u001b[39m \u001b[43mrpc\u001b[49m\u001b[43m(\u001b[49m\n\u001b[1;32m    955\u001b[0m \u001b[43m    \u001b[49m\u001b[43mrequest\u001b[49m\u001b[43m,\u001b[49m\n\u001b[1;32m    956\u001b[0m \u001b[43m    \u001b[49m\u001b[43mretry\u001b[49m\u001b[38;5;241;43m=\u001b[39;49m\u001b[43mretry\u001b[49m\u001b[43m,\u001b[49m\n\u001b[1;32m    957\u001b[0m \u001b[43m    \u001b[49m\u001b[43mtimeout\u001b[49m\u001b[38;5;241;43m=\u001b[39;49m\u001b[43mtimeout\u001b[49m\u001b[43m,\u001b[49m\n\u001b[1;32m    958\u001b[0m \u001b[43m    \u001b[49m\u001b[43mmetadata\u001b[49m\u001b[38;5;241;43m=\u001b[39;49m\u001b[43mmetadata\u001b[49m\u001b[43m,\u001b[49m\n\u001b[1;32m    959\u001b[0m \u001b[43m\u001b[49m\u001b[43m)\u001b[49m\n\u001b[1;32m    961\u001b[0m \u001b[38;5;66;03m# Done; return the response.\u001b[39;00m\n\u001b[1;32m    962\u001b[0m \u001b[38;5;28;01mreturn\u001b[39;00m response\n",
      "File \u001b[0;32m~/bc-records/venv/lib/python3.10/site-packages/google/api_core/gapic_v1/method.py:131\u001b[0m, in \u001b[0;36m_GapicCallable.__call__\u001b[0;34m(self, timeout, retry, compression, *args, **kwargs)\u001b[0m\n\u001b[1;32m    128\u001b[0m \u001b[38;5;28;01mif\u001b[39;00m \u001b[38;5;28mself\u001b[39m\u001b[38;5;241m.\u001b[39m_compression \u001b[38;5;129;01mis\u001b[39;00m \u001b[38;5;129;01mnot\u001b[39;00m \u001b[38;5;28;01mNone\u001b[39;00m:\n\u001b[1;32m    129\u001b[0m     kwargs[\u001b[38;5;124m\"\u001b[39m\u001b[38;5;124mcompression\u001b[39m\u001b[38;5;124m\"\u001b[39m] \u001b[38;5;241m=\u001b[39m compression\n\u001b[0;32m--> 131\u001b[0m \u001b[38;5;28;01mreturn\u001b[39;00m \u001b[43mwrapped_func\u001b[49m\u001b[43m(\u001b[49m\u001b[38;5;241;43m*\u001b[39;49m\u001b[43margs\u001b[49m\u001b[43m,\u001b[49m\u001b[43m \u001b[49m\u001b[38;5;241;43m*\u001b[39;49m\u001b[38;5;241;43m*\u001b[39;49m\u001b[43mkwargs\u001b[49m\u001b[43m)\u001b[49m\n",
      "File \u001b[0;32m~/bc-records/venv/lib/python3.10/site-packages/google/api_core/retry.py:372\u001b[0m, in \u001b[0;36mRetry.__call__.<locals>.retry_wrapped_func\u001b[0;34m(*args, **kwargs)\u001b[0m\n\u001b[1;32m    368\u001b[0m target \u001b[38;5;241m=\u001b[39m functools\u001b[38;5;241m.\u001b[39mpartial(func, \u001b[38;5;241m*\u001b[39margs, \u001b[38;5;241m*\u001b[39m\u001b[38;5;241m*\u001b[39mkwargs)\n\u001b[1;32m    369\u001b[0m sleep_generator \u001b[38;5;241m=\u001b[39m exponential_sleep_generator(\n\u001b[1;32m    370\u001b[0m     \u001b[38;5;28mself\u001b[39m\u001b[38;5;241m.\u001b[39m_initial, \u001b[38;5;28mself\u001b[39m\u001b[38;5;241m.\u001b[39m_maximum, multiplier\u001b[38;5;241m=\u001b[39m\u001b[38;5;28mself\u001b[39m\u001b[38;5;241m.\u001b[39m_multiplier\n\u001b[1;32m    371\u001b[0m )\n\u001b[0;32m--> 372\u001b[0m \u001b[38;5;28;01mreturn\u001b[39;00m \u001b[43mretry_target\u001b[49m\u001b[43m(\u001b[49m\n\u001b[1;32m    373\u001b[0m \u001b[43m    \u001b[49m\u001b[43mtarget\u001b[49m\u001b[43m,\u001b[49m\n\u001b[1;32m    374\u001b[0m \u001b[43m    \u001b[49m\u001b[38;5;28;43mself\u001b[39;49m\u001b[38;5;241;43m.\u001b[39;49m\u001b[43m_predicate\u001b[49m\u001b[43m,\u001b[49m\n\u001b[1;32m    375\u001b[0m \u001b[43m    \u001b[49m\u001b[43msleep_generator\u001b[49m\u001b[43m,\u001b[49m\n\u001b[1;32m    376\u001b[0m \u001b[43m    \u001b[49m\u001b[38;5;28;43mself\u001b[39;49m\u001b[38;5;241;43m.\u001b[39;49m\u001b[43m_timeout\u001b[49m\u001b[43m,\u001b[49m\n\u001b[1;32m    377\u001b[0m \u001b[43m    \u001b[49m\u001b[43mon_error\u001b[49m\u001b[38;5;241;43m=\u001b[39;49m\u001b[43mon_error\u001b[49m\u001b[43m,\u001b[49m\n\u001b[1;32m    378\u001b[0m \u001b[43m\u001b[49m\u001b[43m)\u001b[49m\n",
      "File \u001b[0;32m~/bc-records/venv/lib/python3.10/site-packages/google/api_core/retry.py:207\u001b[0m, in \u001b[0;36mretry_target\u001b[0;34m(target, predicate, sleep_generator, timeout, on_error, **kwargs)\u001b[0m\n\u001b[1;32m    205\u001b[0m \u001b[38;5;28;01mfor\u001b[39;00m sleep \u001b[38;5;129;01min\u001b[39;00m sleep_generator:\n\u001b[1;32m    206\u001b[0m     \u001b[38;5;28;01mtry\u001b[39;00m:\n\u001b[0;32m--> 207\u001b[0m         result \u001b[38;5;241m=\u001b[39m \u001b[43mtarget\u001b[49m\u001b[43m(\u001b[49m\u001b[43m)\u001b[49m\n\u001b[1;32m    208\u001b[0m         \u001b[38;5;28;01mif\u001b[39;00m inspect\u001b[38;5;241m.\u001b[39misawaitable(result):\n\u001b[1;32m    209\u001b[0m             warnings\u001b[38;5;241m.\u001b[39mwarn(_ASYNC_RETRY_WARNING)\n",
      "File \u001b[0;32m~/bc-records/venv/lib/python3.10/site-packages/google/api_core/timeout.py:120\u001b[0m, in \u001b[0;36mTimeToDeadlineTimeout.__call__.<locals>.func_with_timeout\u001b[0;34m(*args, **kwargs)\u001b[0m\n\u001b[1;32m    117\u001b[0m     \u001b[38;5;66;03m# Avoid setting negative timeout\u001b[39;00m\n\u001b[1;32m    118\u001b[0m     kwargs[\u001b[38;5;124m\"\u001b[39m\u001b[38;5;124mtimeout\u001b[39m\u001b[38;5;124m\"\u001b[39m] \u001b[38;5;241m=\u001b[39m \u001b[38;5;28mmax\u001b[39m(\u001b[38;5;241m0\u001b[39m, \u001b[38;5;28mself\u001b[39m\u001b[38;5;241m.\u001b[39m_timeout \u001b[38;5;241m-\u001b[39m time_since_first_attempt)\n\u001b[0;32m--> 120\u001b[0m \u001b[38;5;28;01mreturn\u001b[39;00m \u001b[43mfunc\u001b[49m\u001b[43m(\u001b[49m\u001b[38;5;241;43m*\u001b[39;49m\u001b[43margs\u001b[49m\u001b[43m,\u001b[49m\u001b[43m \u001b[49m\u001b[38;5;241;43m*\u001b[39;49m\u001b[38;5;241;43m*\u001b[39;49m\u001b[43mkwargs\u001b[49m\u001b[43m)\u001b[49m\n",
      "File \u001b[0;32m~/bc-records/venv/lib/python3.10/site-packages/google/api_core/grpc_helpers.py:77\u001b[0m, in \u001b[0;36m_wrap_unary_errors.<locals>.error_remapped_callable\u001b[0;34m(*args, **kwargs)\u001b[0m\n\u001b[1;32m     75\u001b[0m     \u001b[38;5;28;01mreturn\u001b[39;00m callable_(\u001b[38;5;241m*\u001b[39margs, \u001b[38;5;241m*\u001b[39m\u001b[38;5;241m*\u001b[39mkwargs)\n\u001b[1;32m     76\u001b[0m \u001b[38;5;28;01mexcept\u001b[39;00m grpc\u001b[38;5;241m.\u001b[39mRpcError \u001b[38;5;28;01mas\u001b[39;00m exc:\n\u001b[0;32m---> 77\u001b[0m     \u001b[38;5;28;01mraise\u001b[39;00m exceptions\u001b[38;5;241m.\u001b[39mfrom_grpc_error(exc) \u001b[38;5;28;01mfrom\u001b[39;00m \u001b[38;5;21;01mexc\u001b[39;00m\n",
      "\u001b[0;31mAlreadyExists\u001b[0m: 409 com.google.apps.framework.request.AlreadyExistsException: Agent with display name 'agent1' already exists in the project. Code: ALREADY_EXISTS"
     ]
    }
   ],
   "source": [
    "# First we will instansiate our Agent object\n",
    "a = Agents(creds_path=creds_path)\n",
    "\n",
    "# Next, we will set some variables for our agent creation args\n",
    "project_id = 'bot1-404120'\n",
    "display_name = 'agent1'\n",
    "gcp_region = 'global'\n",
    "\n",
    "# Then we will call the `create_agent` method and capture the result in a var call `my_agent`\n",
    "my_agent = a.create_agent(project_id, display_name, gcp_region)\n"
   ]
  },
  {
   "cell_type": "code",
   "execution_count": 31,
   "id": "c8759648-77c0-467a-9a2a-41fdbcdd135c",
   "metadata": {},
   "outputs": [
    {
     "name": "stdout",
     "output_type": "stream",
     "text": [
      "name: \"projects/bot1-404120/locations/global/agents/1f52228b-df94-4727-9207-61405b75906b\"\n",
      "display_name: \"agent1\"\n",
      "default_language_code: \"en\"\n",
      "time_zone: \"America/Chicago\"\n",
      "start_flow: \"projects/bot1-404120/locations/global/agents/1f52228b-df94-4727-9207-61405b75906b/flows/00000000-0000-0000-0000-000000000000\"\n",
      "advanced_settings {\n",
      "  logging_settings {\n",
      "  }\n",
      "}\n",
      "\n"
     ]
    }
   ],
   "source": [
    "print(my_agent)"
   ]
  },
  {
   "cell_type": "code",
   "execution_count": 41,
   "id": "f109a610-783d-4e28-9ebe-61b08b549d3c",
   "metadata": {},
   "outputs": [
    {
     "name": "stdout",
     "output_type": "stream",
     "text": [
      "Progress(1/1)[------------------------------------------------->] 100.0%\r"
     ]
    }
   ],
   "source": [
    "# 2. create first intent from csv... \n",
    "#\n",
    "# note: my og g-sheets sa automation for early batch intents is here in tab No. 2.... https://itrau.co/dialogflow-intents-v1\n",
    "\n",
    "\n",
    "file = \"sample_intent_tp\"\n",
    "\n",
    "# First, we will instantiate our DataframeFunctions (dffx) object\n",
    "dffx = DataframeFunctions(creds_path=creds_path)\n",
    "\n",
    "# Next, we will read in our sample CSV with Intent/TP data into a Pandas DataFrame\n",
    "df = pd.read_csv(f\"{file}.csv\")\n",
    "\n",
    "# Finally, we will use `dffx` to push our Intents to our Agent\n",
    "my_intents = dffx.bulk_create_intent_from_dataframe(my_agent.name, df, update_flag=True)\n",
    "\n"
   ]
  },
  {
   "cell_type": "code",
   "execution_count": null,
   "id": "0af09d0f-7e48-491f-ba32-a18d2f202c5d",
   "metadata": {},
   "outputs": [],
   "source": []
  }
 ],
 "metadata": {
  "kernelspec": {
   "display_name": "Python 3 (ipykernel)",
   "language": "python",
   "name": "python3"
  },
  "language_info": {
   "codemirror_mode": {
    "name": "ipython",
    "version": 3
   },
   "file_extension": ".py",
   "mimetype": "text/x-python",
   "name": "python",
   "nbconvert_exporter": "python",
   "pygments_lexer": "ipython3",
   "version": "3.10.12"
  }
 },
 "nbformat": 4,
 "nbformat_minor": 5
}
